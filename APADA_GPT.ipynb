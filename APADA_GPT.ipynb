{
 "cells": [
  {
   "cell_type": "code",
   "execution_count": 1,
   "id": "19915df2-03c6-49af-9ce6-8a0946e4d3c5",
   "metadata": {},
   "outputs": [
    {
     "name": "stdout",
     "output_type": "stream",
     "text": [
      "Se extrajeron los mensajes y se guardaron en mensajes.txt\n"
     ]
    }
   ],
   "source": [
    "import pandas as pd\n",
    "\n",
    "def extraer_mensajes(csv_file, output_file):\n",
    "    try:\n",
    "        # Lee el archivo CSV\n",
    "        df = pd.read_csv(csv_file)\n",
    "\n",
    "        # Verifica si la columna 'Mensajes' está presente en el DataFrame\n",
    "        if 'Mensaje' not in df.columns:\n",
    "            raise ValueError(\"La columna 'Mensajes' no está presente en el archivo CSV.\")\n",
    "\n",
    "        # Extrae solo la columna 'Mensajes'\n",
    "        mensajes_columna = df['Mensaje']\n",
    "\n",
    "        # Guarda los mensajes en un archivo de texto\n",
    "        mensajes_columna.to_csv(output_file, index=False, header=False)\n",
    "\n",
    "        print(f\"Se extrajeron los mensajes y se guardaron en {output_file}\")\n",
    "\n",
    "    except Exception as e:\n",
    "        print(f\"Error: {e}\")\n",
    "\n",
    "# Reemplaza 'archivo.csv' con tu archivo CSV de entrada y 'mensajes.txt' con el nombre deseado para el archivo de salida.\n",
    "archivo_csv = 'filtered.csv'\n",
    "archivo_salida_txt = 'mensajes.txt'\n",
    "\n",
    "extraer_mensajes(archivo_csv, archivo_salida_txt)\n"
   ]
  },
  {
   "cell_type": "code",
   "execution_count": 2,
   "id": "18fbcda5-8b85-45b3-99e0-661e164a1e7e",
   "metadata": {},
   "outputs": [],
   "source": [
    "#read input file to inspect it\n",
    "with open('input.txt', 'r', encoding='UTF-8') as f:\n",
    "    text = f.read()"
   ]
  },
  {
   "cell_type": "code",
   "execution_count": 3,
   "id": "a29cb8f5-3877-4d82-9b16-2932b6b4fd2e",
   "metadata": {},
   "outputs": [
    {
     "name": "stdout",
     "output_type": "stream",
     "text": [
      "Length of dataset in characters:  1532264\n"
     ]
    }
   ],
   "source": [
    "print('Length of dataset in characters: ', len(text))"
   ]
  },
  {
   "cell_type": "code",
   "execution_count": 4,
   "id": "a89870e0-1aac-454d-859e-1c33eee6d2e0",
   "metadata": {},
   "outputs": [
    {
     "name": "stdout",
     "output_type": "stream",
     "text": [
      "\n",
      " !\"#$%&'()*+,-./0123456789:;<=>?@ABCDEFGHIJKLMNOPQRSTUVWXYZ[]^_`abcdefghijklmnopqrstuvwxyz{|~ ¡¥´¹¿ÁÉÍÑÓ×ÚÝáãçèéìíñòó÷úüģĪĶķĺŕź́̃Տسعىيᐯᑌᑎᑕᑭᖇᖴᗩᗪᗰᗴ‎’“”…‪‬ €\n",
      "155\n"
     ]
    }
   ],
   "source": [
    "# watching all the unique characters that occur in this dataset\n",
    "chars = sorted(list(set(text)))\n",
    "vocab_size = len(chars)\n",
    "print(''.join(chars))\n",
    "print(vocab_size)"
   ]
  },
  {
   "cell_type": "code",
   "execution_count": 6,
   "id": "1b7292b5-45b2-47af-ad73-768d6b23c648",
   "metadata": {},
   "outputs": [
    {
     "name": "stdout",
     "output_type": "stream",
     "text": [
      "[72, 73, 73, 1, 84, 72, 69, 82, 69]\n",
      "hii there\n"
     ]
    }
   ],
   "source": [
    "#Tokenize the imput text (trnasform each individual character (for this case) into integers using encoders and for vice versa using a decoder)\n",
    "#create a mapping from characters to integers\n",
    "stoi = { ch:i for i,ch in enumerate(chars)}\n",
    "itos = { i:ch for i,ch in enumerate(chars)}\n",
    "encode = lambda s: [stoi[c] for c in s] # encoder: take a string, output a list of integers\n",
    "decode = lambda l: ''.join([itos[i] for i in l]) #decoder: taker a list of integers, output a string\n",
    "print(encode(\"hii there\"))\n",
    "print(decode(encode(\"hii there\")))"
   ]
  },
  {
   "cell_type": "code",
   "execution_count": 7,
   "id": "8e2f0b68-3431-4426-8f66-2f2f2587af47",
   "metadata": {},
   "outputs": [
    {
     "name": "stdout",
     "output_type": "stream",
     "text": [
      "torch.Size([1532264]) torch.int64\n",
      "tensor([  3,  46,  69,  83,  83,  65,  71,  69,  83,   1,  65,  78,  68,   1,\n",
      "         67,  65,  76,  76,  83,   1,  65,  82,  69,   1,  69,  78,  68,  14,\n",
      "         84,  79,  14,  69,  78,  68,   1,  69,  78,  67,  82,  89,  80,  84,\n",
      "         69,  68,  15,   1,  47,  79,   1,  79,  78,  69,   1,  79,  85,  84,\n",
      "         83,  73,  68,  69,   1,  79,  70,   1,  84,  72,  73,  83,   1,  67,\n",
      "         72,  65,  84,  13,   1,  78,  79,  84,   1,  69,  86,  69,  78,   1,\n",
      "         56,  72,  65,  84,  83,  34,  80,  80,  13,   1,  67,  65,  78,   1,\n",
      "         82,  69,  65,  68,   1,  79,  82,   1,  76,  73,  83,  84,  69,  78,\n",
      "          1,  84,  79,   1,  84,  72,  69,  77,  15,   3,   0,  42,  86,  79,\n",
      "         78,  78,  69,   1,  34,  76,  86,  65,  82,  65,  68,  79,   1,  67,\n",
      "         82,  69,  65,  84,  69,  68,   1,  84,  72,  73,  83,   1,  71,  82,\n",
      "         79,  85,  80,   0,  35,  85,  69,  78,  65,  83,   1,  84,  65,  82,\n",
      "         68,  69,  83,   1,  69,  83,   1,  78,  69,  67,  69,  83,  65,  82,\n",
      "         73,  79,   1,  73,  78,  83,  67,  82,  73,  66,  73,  82,  83,  69,\n",
      "          1,  80,  65,  82,  65,   1,  69,  83,  84,  69,   1,  69,  86,  69,\n",
      "         78,  84,  79,   0,  35,  85,  69,  78,  65,  83,   1,  84,  65,  82,\n",
      "         68,  69,  83,   2,   2,   2,   1,  40,  82,  65,  67,  73,  65,  83,\n",
      "          1,  80,  79,  82,   1,  69,  76,   1,  65,  80,  79,  82,  84,  69,\n",
      "          1,  65,   1,  76,  79,  83,   1,  81,  85,  69,   1,  81,  85,  73,\n",
      "         69,  82,  65,  78,   1,  85,  78,  73,  82,  83,  69,   1,  80,  79,\n",
      "         82,   1,  70,  65,  67,  69,  66,  79,  79,  75,   1,  69,  83,  84,\n",
      "         69,   1,  69,  83,   1,  69,  76,   1,  76,  73,  78,  75,   0,  41,\n",
      "         79,  76,  65,   1,  66,  85,  69,  78,  65,  83,   1,  84,  65,  82,\n",
      "         68,  69,  83,   0,  41,  69,  82,  77,  79,  83,  79,   1,  77,  65,\n",
      "         77,  73,  84,  65,  83,   2,   2,   0,  38,  83,  65,   1,  77, 119,\n",
      "         83,  73,  67,  65,   1,  69,  83,   1,  68,  69,   1,  39,  69,  82,\n",
      "         78,  65,  78,  68,  79,   1,  54,  66,  73,  69,  82,  71,  79,   0,\n",
      "         36,  85,  65,  78,  68,  79,   1,  77,  69,   1,  68,  73,  65,  71,\n",
      "         78,  79,  83,  84,  73,  67,  65,  82,  79,  78,   1,  67,  79,  78,\n",
      "          1,  34,  85,  84,  73,  83,  77,  79,   1,  65,   1,  77,  73,  83,\n",
      "          1,  72,  73,  74,  79,  83,   0,  58,  79,   1,  76,  76,  79,  82,\n",
      "         65,  66,  65,   1,  77,  85,  67,  72,  79,   1,  67,  79,  78,   1,\n",
      "         69,  83,  84,  65,   1,  67,  65,  78,  67,  73, 117,  78,   0,  38,\n",
      "         76,   1,  76,  73,  78,  75,   0,  34,  77, 112,  78,   0,  34,  77,\n",
      "         79,  82,   1,  89,   1,  77, 108,  83,   1,  65,  77,  79,  82,   2,\n",
      "          0,  35,  85,  69,  78,  65,  83,   1,  78,  79,  67,  72,  69,  83,\n",
      "          1,  68,  73,  83,  67,  85,  76,  80,  69,   1,  65,  76,  71,  85,\n",
      "         73,  69,  78,   1,  83,  65,  66,  69,   1,  79,   1,  83,  69,   1,\n",
      "         72,  65,   1,  84,  82,  65,  84,  65,  68,  79,   1,  67,  79,  78,\n",
      "          1,  76,  65,   1,  78,  85,  69,  82,  79,  80,  83,  73,  67,  79,\n",
      "         76,  71,  65,   1,  73,  78,  70,  65,  78,  84,  73,  76,   1,  37,\n",
      "         65,  78,  73,  69,  76,  65,   1,  35,  65,  82,  90,  65,  76,  76,\n",
      "         79,   1,  32,   0,   3,  58,  79,  13,   1,  78,  79,   3,   0,  76,\n",
      "         79,  83,   1,  80,  83,  73,  67, 117,  76,  79,  71,  79,  83,   1,\n",
      "         73,  78,  70,  65,  78,  84,  73,  76,  69,  83,   1,  83,  79,  78,\n",
      "          1,  68,  69,   1,  76,  79,  83,   1,  77,  69,  74,  79,  82,  69,\n",
      "         83,   1,  84,  82,  65,  84,  65,  78,  68,  79,   1,  65,   1,  76,\n",
      "         79,  83,   1,  78,  73, 115,  79,  83,   0,   3,  35,  85,  69,  78,\n",
      "         79,  83,   1,  68, 114,  65,  83,  13,   1,  81,  85,  69,  82, 114,\n",
      "         65,   1,  67,  79,  78,  83,  85,  76,  84,  65,  82,   1,  69,  76,\n",
      "          1,  68,  65,  84,  79,   1,  68,  69,   1,  80,  82,  79,  70,  69,\n",
      "         83,  73,  79,  78,  65,  76,  69,  83,   1,  67,  79,  78,   1,  67,\n",
      "         69,  82,  84,  73,  70,  73,  67,  65,  67,  73, 117,  78,   1,  34,\n",
      "         35,  34,   1,  69,  78,   1,  50,  85,  73,  84,  79,  13,   1,  67,\n",
      "         82,  69,  79,   1,  81,  85,  69,   1,  69,  78,   1,  65,  76,  71,\n",
      "         85,  78,   1,  77,  79,  77,  69,  78,  84,  79,   1,  76,  79,  83,\n",
      "          1,  80,  65,  83,  65,  82,  79,  78,  13,   1,  78,  79,   1,  83,\n",
      "         69,   1,  83,  73,   1,  65,  76,  71,  85,  73,  69,  78,   1,  76,\n",
      "         79,   1,  80,  85,  69,  68,  65,   1,  80,  79,  78,  69,  82,   1,\n",
      "         78,  85,  69,  86,  65,  77,  69,  78,  84,  69,  15,   3,   0,  52,\n",
      "         79,  76,  79,   1,  72,  65,  89,   1,  85,  78,  65,   0,  37, 112,\n",
      "         74,  69,  77,  69,   1,  66,  85,  83,  67,  79,   0,  49,  69,  82,\n",
      "         79,   1,  77, 108,  83,   1,  66,  73,  69,  78,   1,  80,  65,  83,\n",
      "         79,   1,  65,   1,  82,  69,  67,  79,  77,  69,  78,  68,  65,  82,\n",
      "          1,  81,  85,  69,   1,  67,  79,  77,  79,   1,  34,  66,  65,   1,\n",
      "         83,  79,  76,  79,   1,  85,  78,  65,   1,  69,  78,   1,  38,  67,\n",
      "         85,  65,  68,  79,  82,   1,  76,  79,   1,  72,  65,  67,  69,  77,\n",
      "         79,  83,   1,  66,  73,  69,  78,   1,  72,  65,  89,   1,  80,  82,\n",
      "         79,  70,  69,  83,  73,  79,  78,  65,  76,  69,  83,   1,  68,  69,\n",
      "          1,  65,  77,  80,  76,  73,  65,   1,  69,  88,  80,  69,  82,  73,\n",
      "         69,  78,  67,  73,  65,   1,  81,  85,  69,   1,  85,  78,  69,  78,\n",
      "          1,  85,  78,   1,  80,  79])\n"
     ]
    }
   ],
   "source": [
    "# Encoding the entire text dataset and store it into a torch.Tensor\n",
    "import torch\n",
    "data = torch.tensor(encode(text), dtype=torch.long)\n",
    "print(data.shape, data.dtype)\n",
    "print(data[:1000])"
   ]
  },
  {
   "cell_type": "code",
   "execution_count": 8,
   "id": "e4685657-6f5b-4587-8b3d-ad6809b7a03f",
   "metadata": {},
   "outputs": [],
   "source": [
    "#Spliting up data into train and validation sets\n",
    "n = int(0.9*len(data))\n",
    "train_data = data[:n]\n",
    "val_data = data[n:]"
   ]
  },
  {
   "cell_type": "code",
   "execution_count": 9,
   "id": "19d4a192-d611-42b2-aca2-95fcd9dc0317",
   "metadata": {},
   "outputs": [
    {
     "data": {
      "text/plain": [
       "tensor([ 3, 46, 69, 83, 83, 65, 71, 69, 83])"
      ]
     },
     "execution_count": 9,
     "metadata": {},
     "output_type": "execute_result"
    }
   ],
   "source": [
    "#Data loader (batches of chunk of data)\n",
    "block_size = 8 #the context of words the model has to consider for inferences\n",
    "train_data[:block_size+1]"
   ]
  },
  {
   "cell_type": "code",
   "execution_count": 10,
   "id": "b337ccbc-470b-4098-a7a0-759a047a6706",
   "metadata": {},
   "outputs": [
    {
     "name": "stdout",
     "output_type": "stream",
     "text": [
      "When input is: tensor([3]), the target is: 46\n",
      "When input is: tensor([ 3, 46]), the target is: 69\n",
      "When input is: tensor([ 3, 46, 69]), the target is: 83\n",
      "When input is: tensor([ 3, 46, 69, 83]), the target is: 83\n",
      "When input is: tensor([ 3, 46, 69, 83, 83]), the target is: 65\n",
      "When input is: tensor([ 3, 46, 69, 83, 83, 65]), the target is: 71\n",
      "When input is: tensor([ 3, 46, 69, 83, 83, 65, 71]), the target is: 69\n",
      "When input is: tensor([ 3, 46, 69, 83, 83, 65, 71, 69]), the target is: 83\n"
     ]
    }
   ],
   "source": [
    "x = train_data[:block_size]\n",
    "y = train_data[1:block_size+1]\n",
    "for t in range(block_size):\n",
    "    context = x[:t+1]\n",
    "    target = y[t]\n",
    "    print(f\"When input is: {context}, the target is: {target}\")"
   ]
  },
  {
   "cell_type": "code",
   "execution_count": 11,
   "id": "a6624095-f7d4-471f-8347-806ac8d8521b",
   "metadata": {},
   "outputs": [
    {
     "name": "stdout",
     "output_type": "stream",
     "text": [
      "inputs:\n",
      "torch.Size([4, 8])\n",
      "tensor([[ 1,  1, 38, 78,  1, 84, 79, 82],\n",
      "        [77, 73, 78, 85, 84, 79, 83,  1],\n",
      "        [71, 85, 83, 84, 65,  1, 80, 79],\n",
      "        [69, 83, 67, 85, 66, 82, 73, 82]])\n",
      "targets:\n",
      "torch.Size([4, 8])\n",
      "tensor([[ 1, 38, 78,  1, 84, 79, 82, 78],\n",
      "        [73, 78, 85, 84, 79, 83,  1, 89],\n",
      "        [85, 83, 84, 65,  1, 80, 79, 68],\n",
      "        [83, 67, 85, 66, 82, 73, 82,  1]])\n",
      "----\n",
      "when input is [1] the target: 1\n",
      "when input is [1, 1] the target: 38\n",
      "when input is [1, 1, 38] the target: 78\n",
      "when input is [1, 1, 38, 78] the target: 1\n",
      "when input is [1, 1, 38, 78, 1] the target: 84\n",
      "when input is [1, 1, 38, 78, 1, 84] the target: 79\n",
      "when input is [1, 1, 38, 78, 1, 84, 79] the target: 82\n",
      "when input is [1, 1, 38, 78, 1, 84, 79, 82] the target: 78\n",
      "when input is [77] the target: 73\n",
      "when input is [77, 73] the target: 78\n",
      "when input is [77, 73, 78] the target: 85\n",
      "when input is [77, 73, 78, 85] the target: 84\n",
      "when input is [77, 73, 78, 85, 84] the target: 79\n",
      "when input is [77, 73, 78, 85, 84, 79] the target: 83\n",
      "when input is [77, 73, 78, 85, 84, 79, 83] the target: 1\n",
      "when input is [77, 73, 78, 85, 84, 79, 83, 1] the target: 89\n",
      "when input is [71] the target: 85\n",
      "when input is [71, 85] the target: 83\n",
      "when input is [71, 85, 83] the target: 84\n",
      "when input is [71, 85, 83, 84] the target: 65\n",
      "when input is [71, 85, 83, 84, 65] the target: 1\n",
      "when input is [71, 85, 83, 84, 65, 1] the target: 80\n",
      "when input is [71, 85, 83, 84, 65, 1, 80] the target: 79\n",
      "when input is [71, 85, 83, 84, 65, 1, 80, 79] the target: 68\n",
      "when input is [69] the target: 83\n",
      "when input is [69, 83] the target: 67\n",
      "when input is [69, 83, 67] the target: 85\n",
      "when input is [69, 83, 67, 85] the target: 66\n",
      "when input is [69, 83, 67, 85, 66] the target: 82\n",
      "when input is [69, 83, 67, 85, 66, 82] the target: 73\n",
      "when input is [69, 83, 67, 85, 66, 82, 73] the target: 82\n",
      "when input is [69, 83, 67, 85, 66, 82, 73, 82] the target: 1\n"
     ]
    }
   ],
   "source": [
    "torch.manual_seed(1337)\n",
    "batch_size = 4 # how many independent sequences will we process in parallel?\n",
    "block_size = 8 # what is the maximum context length for predictions?\n",
    "\n",
    "def get_batch(split):\n",
    "    # generate a small batch of data of inputs x and targets y\n",
    "    data = train_data if split == 'train' else val_data\n",
    "    ix = torch.randint(len(data) - block_size, (batch_size,))\n",
    "    x = torch.stack([data[i:i+block_size] for i in ix])\n",
    "    y = torch.stack([data[i+1:i+block_size+1] for i in ix])\n",
    "    return x, y\n",
    "\n",
    "xb, yb = get_batch('train')\n",
    "print('inputs:')\n",
    "print(xb.shape)\n",
    "print(xb)\n",
    "print('targets:')\n",
    "print(yb.shape)\n",
    "print(yb)\n",
    "\n",
    "print('----')\n",
    "\n",
    "for b in range(batch_size): # batch dimension\n",
    "    for t in range(block_size): # time dimension\n",
    "        context = xb[b, :t+1]\n",
    "        target = yb[b,t]\n",
    "        print(f\"when input is {context.tolist()} the target: {target}\")"
   ]
  },
  {
   "cell_type": "code",
   "execution_count": 12,
   "id": "c7e47c70-091c-4743-a274-b05d4d385f99",
   "metadata": {},
   "outputs": [
    {
     "name": "stdout",
     "output_type": "stream",
     "text": [
      "tensor([[ 1,  1, 38, 78,  1, 84, 79, 82],\n",
      "        [77, 73, 78, 85, 84, 79, 83,  1],\n",
      "        [71, 85, 83, 84, 65,  1, 80, 79],\n",
      "        [69, 83, 67, 85, 66, 82, 73, 82]])\n"
     ]
    }
   ],
   "source": [
    "print(xb) #input to the transformer"
   ]
  },
  {
   "cell_type": "code",
   "execution_count": 22,
   "id": "a6c8999f-d429-4e5b-9226-9bee4083f83e",
   "metadata": {},
   "outputs": [
    {
     "name": "stdout",
     "output_type": "stream",
     "text": [
      "torch.Size([32, 155])\n",
      "tensor(5.5981, grad_fn=<NllLossBackward0>)\n",
      "\n",
      "íg%÷ع$#LiÚᑎ)qãIÓĺ?1lb~*úO8¡8.ìSxÁlñx“Váhèź¡́1>r^ᗰWᑎc¡Ñᖴ@÷ÝÑKᗴ^=Í.¿rÍçU×ü´IYq|Zã@”ÚczQNىü×V=Kي=f¡/÷´ي\n"
     ]
    }
   ],
   "source": [
    "import torch \n",
    "import torch.nn as nn\n",
    "from torch.nn import functional as F\n",
    "torch.manual_seed(1337)\n",
    "\n",
    "class BigramLanguageModel(nn.Module):\n",
    "\n",
    "    def __init__(self, vocab_size):\n",
    "        super().__init__()\n",
    "        # each token directly reads off the logits for the next token from a lookup table\n",
    "        self.token_embedding_table = nn.Embedding(vocab_size, vocab_size)\n",
    "\n",
    "    def forward(self, idx, targets=None):\n",
    "        # idx and targets are both (B,T) tensor of integers\n",
    "        logits = self.token_embedding_table(idx) # (B,T,C)\n",
    "        \n",
    "        if targets is None:\n",
    "            loss = None\n",
    "        else:\n",
    "            B, T, C = logits.shape\n",
    "            logits = logits.view(B*T, C)\n",
    "            targets = targets.view(B*T)\n",
    "            loss = F.cross_entropy(logits, targets)\n",
    "\n",
    "        return logits, loss\n",
    "    \n",
    "    def generate(self, idx, max_new_tokens):\n",
    "        # idx is (B, T) array of indices in the current context\n",
    "        for _ in range(max_new_tokens):\n",
    "            # get the predictions\n",
    "            logits, loss = self(idx)\n",
    "            # focus only on the last time step\n",
    "            logits = logits[:, -1, :] # becomes (B, C)\n",
    "            # apply softmax to get probabilities\n",
    "            probs = F.softmax(logits, dim=-1) # (B, C)\n",
    "            # sample from the distribution\n",
    "            idx_next = torch.multinomial(probs, num_samples=1) # (B, 1)\n",
    "            # append sampled index to the running sequence\n",
    "            idx = torch.cat((idx, idx_next), dim=1) # (B, T+1)\n",
    "        return idx\n",
    "\n",
    "m = BigramLanguageModel(vocab_size)\n",
    "logits, loss = m(xb, yb)\n",
    "print(logits.shape)\n",
    "print(loss)\n",
    "\n",
    "#Printing a generated text. This would be garbage 'cause I'm using seeds which randomize the outputs basically \n",
    "print(decode(m.generate(idx = torch.zeros((1, 1), dtype=torch.long), max_new_tokens=100)[0].tolist()))\n",
    "# Need more explaniation"
   ]
  },
  {
   "cell_type": "code",
   "execution_count": 25,
   "id": "94c43bfa-6ba4-420c-ab1f-bd22639387b4",
   "metadata": {},
   "outputs": [],
   "source": [
    "#Training the model to be less random\n",
    "# for this porpuse it's recommendated to use a Pytorch optimization object\n",
    "optimizer = torch.optim.AdamW(m.parameters(), lr=1e-3)"
   ]
  },
  {
   "cell_type": "code",
   "execution_count": 30,
   "id": "aee8eddc-ca10-46c1-8588-4ea22b06b394",
   "metadata": {},
   "outputs": [
    {
     "name": "stdout",
     "output_type": "stream",
     "text": [
      "2.3476738929748535\n"
     ]
    }
   ],
   "source": [
    "batch_size = 32\n",
    "for steps in range(10000):    \n",
    "    # sample a batch of data\n",
    "    xb, yb = get_batch('train')\n",
    "    # evaluate the loss\n",
    "    logits, loss = m(xb, yb)\n",
    "    optimizer.zero_grad(set_to_none=True)\n",
    "    loss.backward()\n",
    "    optimizer.step()\n",
    "\n",
    "print(loss.item())"
   ]
  },
  {
   "cell_type": "code",
   "execution_count": 31,
   "id": "00beb0a6-a4eb-416f-8df8-e049d8ed7378",
   "metadata": {},
   "outputs": [
    {
     "name": "stdout",
     "output_type": "stream",
     "text": [
      "\n",
      "Sara l siargasueren ra l s elia es de el Sicos cherelo e adon dijo má, pajost jZ+? ríaro s elmastio \n"
     ]
    }
   ],
   "source": [
    "#Printing a generated text.\n",
    "print(decode(m.generate(idx = torch.zeros((1, 1), dtype=torch.long), max_new_tokens=100)[0].tolist()))\n",
    "#Becasuse this model its only watching for the last word to generete other character the majority of them has nosense for the reason that they are not talking to \n",
    "#each other and figuring out what it's in the context "
   ]
  },
  {
   "cell_type": "code",
   "execution_count": null,
   "id": "cd1f27fc-d9dd-4210-9598-60ec3a241a4a",
   "metadata": {},
   "outputs": [],
   "source": [
    " "
   ]
  }
 ],
 "metadata": {
  "kernelspec": {
   "display_name": "Python 3 (ipykernel)",
   "language": "python",
   "name": "python3"
  },
  "language_info": {
   "codemirror_mode": {
    "name": "ipython",
    "version": 3
   },
   "file_extension": ".py",
   "mimetype": "text/x-python",
   "name": "python",
   "nbconvert_exporter": "python",
   "pygments_lexer": "ipython3",
   "version": "3.11.5"
  }
 },
 "nbformat": 4,
 "nbformat_minor": 5
}
